{
 "cells": [
  {
   "cell_type": "markdown",
   "id": "d218497e",
   "metadata": {},
   "source": [
    "Motivation.\n",
    "What is your dataset? Vivi until friday"
   ]
  },
  {
   "cell_type": "markdown",
   "id": "01135e33",
   "metadata": {},
   "source": [
    "## Why did you choose this/these particular dataset(s)?"
   ]
  },
  {
   "cell_type": "markdown",
   "id": "3cfed2bc",
   "metadata": {},
   "source": [
    "In general, is difficult to find reliable data for LEGO. This particular data set was downloaded by “BRINDGE OF KNOWLEDGE” Website. Is was a dataset that was made for an AI-based pricing prediction project for LEGO sets it was made by combining sources from 3 different Website with official information’s. <br>\n",
    "\n",
    " This data set contain information’s about retail prices, release dates, availability, and pricing history. By analysing it, users can understand various facets of LEGO sets. They can track pricing trends across different regions and over time, empowering them to make informed purchasing decisions. In particular columns like setID, category, name, year, theme, pieces, minifigs, and regional retail prices, can assist users to meticulously plan their LEGO collections, ensuring they acquire desired sets at opportune moments and competitive prices.<br>\n",
    "Understanding the release dates of LEGO sets allows users to plan their purchases strategically and keep up with the newest products released by LEGO. By knowing when sets are launched, users can anticipate when to expect new additions to the LEGO lineup and plan their acquisitions accordingly.\n"
   ]
  },
  {
   "cell_type": "markdown",
   "id": "607eb043",
   "metadata": {},
   "source": [
    "## What was your goal for the end user's experience?"
   ]
  },
  {
   "cell_type": "markdown",
   "id": "c255d85b",
   "metadata": {},
   "source": [
    "Our goal for the end user's experience is to present a captivating narrative that highlights the stability and enduring value of LEGO sets over time. Through a magazine-style website, we aim to create an intuitive and easy-to-follow exploration of how LEGO products have consistently increased in value year after year. By utilizing: \n",
    "- Engaging Headlines: Using catchy headlines that capture the user's attention.\n",
    "- Visual Appeal: Incorporating images of LEGO sets and interesting graphs to attract the users to read the magazine. \n",
    "- Simple Language: Writing in clear and non-technical language. \n",
    "- Storytelling: Structuring the content to guide readers through the story of LEGO's stability. Creating a narrative flow by starting with an attractive introduction, presenting historical data and interesting information, and ending with clear conclusions.\n",
    "- User-Friendly Interface: Design the website with user experience in mind, making it intuitive and easy to navigate. Use a magazine-style layout with clear sections and headings to help readers follow along seamlessly.\n",
    "- Interactive Elements: Incorporating elements such as charts, graphs, and timelines to make the data more engaging. This will allow the users to explore the data themselves and see how LEGO prices have changed over time.\n",
    "- Cross-referencing data: Backing up our discoveries with official sources from LEGO, making the information reliable. Providing the users with a real and comprehensive view of LEGO's investment potential.\n",
    "Ultimately, we aim to create an immersive experience that convinces users of the long-term appeal and financial potential of investing in LEGO sets.\n",
    "\n",
    "Ultimately, we aim to create an immersive experience that convinces users of the long-term appeal and financial potential of investing in LEGO sets."
   ]
  },
  {
   "cell_type": "markdown",
   "id": "f37d5da6",
   "metadata": {},
   "source": []
  },
  {
   "cell_type": "markdown",
   "id": "cb4b2b3e",
   "metadata": {},
   "source": [
    "## Prepare the data - Data Preprocessing"
   ]
  },
  {
   "cell_type": "markdown",
   "id": "2b2cc5f2",
   "metadata": {},
   "source": [
    "- We deleted the cells that didn't contain information or that it was 0, meaning there was no input.\n",
    "- We analysed the information inside the dataset and decided which columns contain potentional interesting information and which ones didn't.\n",
    "- We changed all currencies to Euros to compare them.\n",
    "- We convert the time strings into data time objects so it's easier to work with and analyze a specific part of the data within specific time frames."
   ]
  },
  {
   "cell_type": "markdown",
   "id": "589900eb",
   "metadata": {},
   "source": [
    "Obtaining a reduction of rows, going from 615.864, that was the original amount of rows, to 81.700. Not all the lines had complete information and not all the columns contained important information. That was why it was decided not to look into them."
   ]
  },
  {
   "cell_type": "markdown",
   "id": "408809b7",
   "metadata": {},
   "source": [
    "Basic stats. Let's understand the dataset better until 27/4\n",
    "\n",
    "Write about your choices in data cleaning and preprocessing."
   ]
  },
  {
   "cell_type": "markdown",
   "id": "87fa9523",
   "metadata": {},
   "source": [
    "Write a short section that discusses the dataset stats, containing key points/plots from your exploratory data analysis"
   ]
  },
  {
   "cell_type": "markdown",
   "id": "19df053e",
   "metadata": {},
   "source": [
    "Data Analysis until 30/4\n",
    "\n",
    "Describe your data analysis and explain what you've learned about the dataset."
   ]
  },
  {
   "cell_type": "markdown",
   "id": "08f8dc16",
   "metadata": {},
   "source": [
    "Genre. Which genre of data story did you use? until 27/4\n",
    "<ul>\n",
    "<li>Which tools did you use from each of the 3 categories of Visual Narrative (Figure 7 in Segal and Heer). Why?</li>\n",
    "<li>Which tools did you use from each of the 3 categories of Narrative Structure (Figure 7 in Segal and Heer). Why?</li></ul>"
   ]
  },
  {
   "cell_type": "markdown",
   "id": "09e25bb1",
   "metadata": {},
   "source": [
    "Visualizations\n",
    "<ul>\n",
    "<li>Explain the visualizations you've chosen.</li>\n",
    "<li>Why are they right for the story you want to tell?</li></ul>"
   ]
  },
  {
   "cell_type": "markdown",
   "id": "60f94583",
   "metadata": {},
   "source": [
    "Discussion. Think critically about your creation<br>\n",
    "What went well?,\n",
    "What is still missing? What could be improved?, Why?\n",
    "<br>\n",
    "Contributions.Who did what?\n",
    "<ul>\n",
    "<li>You should write (just briefly) which group member was the main responsible for which elements of the assignment. (I want you guys to understand every part of the assignment, but usually there is someone who took lead role on certain portions of the work. That's what you should explain).</li>\n",
    "<li>It is not OK simply to write \"All group members contributed equally\".</li></ul><br>\n",
    "Make sure that you use references when they're needed and follow academic standards."
   ]
  }
 ],
 "metadata": {
  "kernelspec": {
   "display_name": "Python 3 (ipykernel)",
   "language": "python",
   "name": "python3"
  },
  "language_info": {
   "codemirror_mode": {
    "name": "ipython",
    "version": 3
   },
   "file_extension": ".py",
   "mimetype": "text/x-python",
   "name": "python",
   "nbconvert_exporter": "python",
   "pygments_lexer": "ipython3",
   "version": "3.9.13"
  }
 },
 "nbformat": 4,
 "nbformat_minor": 5
}
